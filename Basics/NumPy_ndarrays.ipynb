{
 "cells": [
  {
   "cell_type": "code",
   "execution_count": 2,
   "id": "161e4e78",
   "metadata": {},
   "outputs": [],
   "source": [
    "# We import NumPy into Python\n",
    "import numpy as np"
   ]
  },
  {
   "cell_type": "code",
   "execution_count": 3,
   "id": "6ef45272",
   "metadata": {},
   "outputs": [
    {
     "name": "stdout",
     "output_type": "stream",
     "text": [
      "[1 2 3 4 5]\n",
      "1\n",
      "<class 'numpy.ndarray'>\n",
      "int64\n",
      "(5,)\n"
     ]
    }
   ],
   "source": [
    "# We create a 1D ndarray that contains only integers\n",
    "x = np.array([1,2,3,4,5])\n",
    "print(x)\n",
    "print(x.ndim) # returns the number of array dimensions\n",
    "print(type(x)) # Return the number of array-dimensions (rank), e.g., it will return 2 for a 4x3 array.\n",
    "print(x.dtype) # tells us the data-type of the elements\n",
    "print(x.shape) # returns a tuple representing the array dimensions"
   ]
  },
  {
   "cell_type": "code",
   "execution_count": 4,
   "id": "eda528c7",
   "metadata": {},
   "outputs": [
    {
     "name": "stdout",
     "output_type": "stream",
     "text": [
      "[[ 1  2  3]\n",
      " [ 4  5  6]\n",
      " [ 7  8  9]\n",
      " [10 11 12]]\n",
      "2\n",
      "<class 'numpy.ndarray'>\n",
      "int64\n",
      "(4, 3)\n",
      "12\n"
     ]
    }
   ],
   "source": [
    "# We create a 2D ndarray that contains only integers\n",
    "y=np.array([[1,2,3],[4,5,6],[7,8,9],[10,11,12]])\n",
    "print(y)\n",
    "print(y.ndim)\n",
    "print(type(y))\n",
    "print(y.dtype)\n",
    "print(y.shape)\n",
    "print(y.size) # Return the number of elements present in the array"
   ]
  },
  {
   "cell_type": "code",
   "execution_count": 5,
   "id": "33a8c6bb",
   "metadata": {},
   "outputs": [
    {
     "name": "stdout",
     "output_type": "stream",
     "text": [
      "[1.  2.5 4. ]\n",
      "float64\n",
      "[1 2 4]\n",
      "int64\n"
     ]
    }
   ],
   "source": [
    "# We create a rank 1 ndarray that contains integers and floats\n",
    "z=np.array([1,2.5,4])\n",
    "print(z)\n",
    "print(z.dtype)\n",
    "# We create a rank 1 ndarray that contains integers and floats\n",
    "# but set the dtype to int64\n",
    "s=np.array([1,2.5,4],dtype=np.int64)\n",
    "print(s)\n",
    "print(s.dtype)"
   ]
  },
  {
   "cell_type": "markdown",
   "id": "5ab9b7ff",
   "metadata": {},
   "source": [
    "### np.load & np.save"
   ]
  },
  {
   "cell_type": "code",
   "execution_count": 6,
   "id": "53dbb56a",
   "metadata": {},
   "outputs": [],
   "source": [
    "np.save('my_array',y)"
   ]
  },
  {
   "cell_type": "code",
   "execution_count": 7,
   "id": "c7ba9655",
   "metadata": {},
   "outputs": [
    {
     "name": "stdout",
     "output_type": "stream",
     "text": [
      "[[ 1  2  3]\n",
      " [ 4  5  6]\n",
      " [ 7  8  9]\n",
      " [10 11 12]]\n"
     ]
    }
   ],
   "source": [
    "p = np.load('my_array.npy')\n",
    "print(p)"
   ]
  },
  {
   "cell_type": "markdown",
   "id": "f0397c45",
   "metadata": {},
   "source": [
    "### np.zeros(shape)"
   ]
  },
  {
   "cell_type": "code",
   "execution_count": 8,
   "id": "37b06f91",
   "metadata": {},
   "outputs": [
    {
     "name": "stdout",
     "output_type": "stream",
     "text": [
      "[[0. 0. 0. 0.]\n",
      " [0. 0. 0. 0.]\n",
      " [0. 0. 0. 0.]]\n"
     ]
    }
   ],
   "source": [
    "# We create a 3 x 4 ndarray full of zeros. \n",
    "zeros_matrix=np.zeros((3,4))\n",
    "print(zeros_matrix)"
   ]
  },
  {
   "cell_type": "markdown",
   "id": "9191e933",
   "metadata": {},
   "source": [
    "### np.ones(shape)"
   ]
  },
  {
   "cell_type": "code",
   "execution_count": 9,
   "id": "ce17287c",
   "metadata": {},
   "outputs": [
    {
     "name": "stdout",
     "output_type": "stream",
     "text": [
      "[[1. 1. 1. 1. 1.]\n",
      " [1. 1. 1. 1. 1.]\n",
      " [1. 1. 1. 1. 1.]\n",
      " [1. 1. 1. 1. 1.]]\n"
     ]
    }
   ],
   "source": [
    "# We create a 3 x 2 ndarray full of ones. \n",
    "X = np.ones((3,2))\n",
    "ones_matrix=np.ones((4,5))\n",
    "print(ones_matrix)"
   ]
  },
  {
   "cell_type": "markdown",
   "id": "d5788f98",
   "metadata": {},
   "source": [
    "### np.full(shape, constant value)"
   ]
  },
  {
   "cell_type": "code",
   "execution_count": 10,
   "id": "00d357b5",
   "metadata": {},
   "outputs": [
    {
     "name": "stdout",
     "output_type": "stream",
     "text": [
      "[[5 5 5]\n",
      " [5 5 5]]\n"
     ]
    }
   ],
   "source": [
    "# We create a 2 x 3 ndarray full of fives. \n",
    "fives_matrix=np.full((2,3),5)\n",
    "print(fives_matrix)"
   ]
  },
  {
   "cell_type": "markdown",
   "id": "3038b07c",
   "metadata": {},
   "source": [
    "### np.eye(N)"
   ]
  },
  {
   "cell_type": "code",
   "execution_count": 11,
   "id": "3b8868d6",
   "metadata": {},
   "outputs": [
    {
     "name": "stdout",
     "output_type": "stream",
     "text": [
      "[[1. 0. 0. 0. 0.]\n",
      " [0. 1. 0. 0. 0.]\n",
      " [0. 0. 1. 0. 0.]\n",
      " [0. 0. 0. 1. 0.]\n",
      " [0. 0. 0. 0. 1.]]\n"
     ]
    }
   ],
   "source": [
    "# We create a 5 x 5 Identity matrix. \n",
    "identity_matrix=np.eye(5)\n",
    "print(identity_matrix)"
   ]
  },
  {
   "cell_type": "markdown",
   "id": "5efe1665",
   "metadata": {},
   "source": [
    "### np.diag( values_in_its_main_diagonal)"
   ]
  },
  {
   "cell_type": "code",
   "execution_count": 12,
   "id": "87e6bd9c",
   "metadata": {},
   "outputs": [
    {
     "name": "stdout",
     "output_type": "stream",
     "text": [
      "[[10  0  0  0]\n",
      " [ 0 20  0  0]\n",
      " [ 0  0 30  0]\n",
      " [ 0  0  0 50]]\n"
     ]
    }
   ],
   "source": [
    "# Create a 4 x 4 diagonal matrix that contains the numbers 10,20,30, and 50\n",
    "# on its main diagonal\n",
    "diagonal_matrix=np.diag((10,20,30,50))\n",
    "print(diagonal_matrix)"
   ]
  },
  {
   "cell_type": "markdown",
   "id": "56dd4d1a",
   "metadata": {},
   "source": [
    "### numpy.diag(array, k=0)"
   ]
  },
  {
   "cell_type": "code",
   "execution_count": 13,
   "id": "5d373931",
   "metadata": {},
   "outputs": [
    {
     "name": "stdout",
     "output_type": "stream",
     "text": [
      "[[ 0  1  2  3  4]\n",
      " [ 5  6  7  8  9]\n",
      " [10 11 12 13 14]\n",
      " [15 16 17 18 19]\n",
      " [20 21 22 23 24]]\n"
     ]
    }
   ],
   "source": [
    "# We create a 4 x 5 ndarray that contains integers from 0 to 24\n",
    "X = np.arange(25).reshape(5, 5)\n",
    "print(X)"
   ]
  },
  {
   "cell_type": "code",
   "execution_count": 14,
   "id": "7e1bb2bd",
   "metadata": {},
   "outputs": [
    {
     "name": "stdout",
     "output_type": "stream",
     "text": [
      "z = [ 0  6 12 18 24]\n"
     ]
    }
   ],
   "source": [
    "# We print the elements in the main diagonal of X\n",
    "print('z =', np.diag(X))"
   ]
  },
  {
   "cell_type": "code",
   "execution_count": 15,
   "id": "32763647",
   "metadata": {},
   "outputs": [
    {
     "name": "stdout",
     "output_type": "stream",
     "text": [
      "y = [ 1  7 13 19]\n"
     ]
    }
   ],
   "source": [
    "# We print the elements above the main diagonal of X\n",
    "print('y =', np.diag(X, k=1))"
   ]
  },
  {
   "cell_type": "code",
   "execution_count": 16,
   "id": "729ca0d8",
   "metadata": {},
   "outputs": [
    {
     "name": "stdout",
     "output_type": "stream",
     "text": [
      "w =  [ 5 11 17 23]\n"
     ]
    }
   ],
   "source": [
    "# We print the elements below the main diagonal of X\n",
    "print('w = ', np.diag(X, k=-1))"
   ]
  },
  {
   "cell_type": "markdown",
   "id": "f584ca48",
   "metadata": {},
   "source": [
    "### np.unique(array, return_index=False, return_inverse=False, return_counts=False, axis=None)"
   ]
  },
  {
   "cell_type": "code",
   "execution_count": 17,
   "id": "008fbcd8",
   "metadata": {},
   "outputs": [
    {
     "name": "stdout",
     "output_type": "stream",
     "text": [
      "[[1 2 3]\n",
      " [5 2 8]\n",
      " [1 2 3]]\n"
     ]
    }
   ],
   "source": [
    "# Create 3 x 3 ndarray with repeated values\n",
    "X = np.array([[1,2,3],[5,2,8],[1,2,3]])\n",
    "print(X)"
   ]
  },
  {
   "cell_type": "code",
   "execution_count": 18,
   "id": "490f030b",
   "metadata": {},
   "outputs": [
    {
     "name": "stdout",
     "output_type": "stream",
     "text": [
      "The unique elements in X are: [1 2 3 5 8]\n"
     ]
    }
   ],
   "source": [
    "# We print the unique elements of X \n",
    "print('The unique elements in X are:',np.unique(X))"
   ]
  },
  {
   "cell_type": "markdown",
   "id": "5db7a0a1",
   "metadata": {},
   "source": [
    "### np.arange(start, stop, step, dtype=None)"
   ]
  },
  {
   "cell_type": "code",
   "execution_count": 19,
   "id": "65ce78de",
   "metadata": {},
   "outputs": [
    {
     "name": "stdout",
     "output_type": "stream",
     "text": [
      "[0 1 2 3 4 5 6 7 8 9]\n"
     ]
    }
   ],
   "source": [
    "# We create a rank 1 ndarray that has sequential integers from 0 to 9\n",
    "x= np.arange(10)\n",
    "print(x)"
   ]
  },
  {
   "cell_type": "code",
   "execution_count": 20,
   "id": "3a7426c8",
   "metadata": {},
   "outputs": [
    {
     "name": "stdout",
     "output_type": "stream",
     "text": [
      "[4 5 6 7 8 9]\n"
     ]
    }
   ],
   "source": [
    "# We create a rank 1 ndarray that has sequential integers from 4 to 9. \n",
    "x= np.arange(4,10) # start is inclusive, stop is exvlusive\n",
    "print(x)"
   ]
  },
  {
   "cell_type": "code",
   "execution_count": 21,
   "id": "47e16674",
   "metadata": {},
   "outputs": [
    {
     "name": "stdout",
     "output_type": "stream",
     "text": [
      "[ 1  4  7 10 13]\n"
     ]
    }
   ],
   "source": [
    "# We create a rank 1 ndarray that has evenly spaced integers from 1 to 13 in steps of 3.\n",
    "x= np.arange(1,14,3)\n",
    "print(x)"
   ]
  },
  {
   "cell_type": "markdown",
   "id": "f427af96",
   "metadata": {},
   "source": [
    "### np.linspace(start, stop, num=50, endpoint=True, retstep=False, dtype=None, axis=0)"
   ]
  },
  {
   "cell_type": "code",
   "execution_count": 22,
   "id": "f3e950cb",
   "metadata": {},
   "outputs": [
    {
     "name": "stdout",
     "output_type": "stream",
     "text": [
      "[ 0.          2.77777778  5.55555556  8.33333333 11.11111111 13.88888889\n",
      " 16.66666667 19.44444444 22.22222222 25.        ]\n"
     ]
    }
   ],
   "source": [
    "# We create a rank 1 ndarray that has 10 integers evenly spaced between 0 and 25.\n",
    "y = np.linspace(0,25,10) # start and stop points are inclusive\n",
    "print(y)"
   ]
  },
  {
   "cell_type": "code",
   "execution_count": 23,
   "id": "83c2a7b9",
   "metadata": {},
   "outputs": [
    {
     "name": "stdout",
     "output_type": "stream",
     "text": [
      "[ 0.   2.5  5.   7.5 10.  12.5 15.  17.5 20.  22.5]\n"
     ]
    }
   ],
   "source": [
    "# We create a rank 1 ndarray that has 10 integers evenly spaced between 0 and 25,\n",
    "# with 25 excluded.\n",
    "y = np.linspace(0,25,10, endpoint=False) # exluded the end point\n",
    "print(y)"
   ]
  },
  {
   "cell_type": "markdown",
   "id": "a929e08b",
   "metadata": {},
   "source": [
    "### np.reshape(array, newshape, order='C')"
   ]
  },
  {
   "cell_type": "code",
   "execution_count": 24,
   "id": "b940b873",
   "metadata": {},
   "outputs": [
    {
     "name": "stdout",
     "output_type": "stream",
     "text": [
      "[[ 0  1  2  3  4]\n",
      " [ 5  6  7  8  9]\n",
      " [10 11 12 13 14]\n",
      " [15 16 17 18 19]]\n"
     ]
    }
   ],
   "source": [
    "# We create a rank 1 ndarray with sequential integers from 0 to 19\n",
    "x = np.arange(20)\n",
    "# We reshape x into a 4 x 5 ndarray \n",
    "z = np.reshape(x, (4,5))\n",
    "print(z)"
   ]
  },
  {
   "cell_type": "markdown",
   "id": "4ad378e0",
   "metadata": {},
   "source": [
    "### ndarray.reshape(shape, order='C')"
   ]
  },
  {
   "cell_type": "code",
   "execution_count": 25,
   "id": "b2f9ef4c",
   "metadata": {},
   "outputs": [
    {
     "name": "stdout",
     "output_type": "stream",
     "text": [
      "[[ 0  1  2  3  4]\n",
      " [ 5  6  7  8  9]\n",
      " [10 11 12 13 14]\n",
      " [15 16 17 18 19]]\n"
     ]
    }
   ],
   "source": [
    "# We create a a rank 1 ndarray with sequential integers from 0 to 19 and\n",
    "# reshape it to a 4 x 5 array \n",
    "y = np.arange(20).reshape((4,5))\n",
    "print(y)"
   ]
  },
  {
   "cell_type": "markdown",
   "id": "c3973894",
   "metadata": {},
   "source": [
    "### np.random.random(shape)"
   ]
  },
  {
   "cell_type": "code",
   "execution_count": 26,
   "id": "5746b91a",
   "metadata": {},
   "outputs": [
    {
     "name": "stdout",
     "output_type": "stream",
     "text": [
      "[[0.44546708 0.9690624  0.82992687]\n",
      " [0.72456125 0.83604048 0.92418924]\n",
      " [0.09589174 0.23864989 0.47091979]]\n"
     ]
    }
   ],
   "source": [
    "# We create a 3 x 3 ndarray with random floats in the half-open interval [0.0, 1.0).\n",
    "a = np.random.random((3,3))\n",
    "print(a)"
   ]
  },
  {
   "cell_type": "markdown",
   "id": "d2a518af",
   "metadata": {},
   "source": [
    "### np.random.randint(start, stop, size = shape)"
   ]
  },
  {
   "cell_type": "code",
   "execution_count": 27,
   "id": "5525d27a",
   "metadata": {},
   "outputs": [
    {
     "name": "stdout",
     "output_type": "stream",
     "text": [
      "[[14  9]\n",
      " [ 4 10]\n",
      " [12 11]]\n"
     ]
    }
   ],
   "source": [
    "# We create a 3 x 2 ndarray with random integers in the half-open interval [4, 15).\n",
    "b = np.random.randint(4,15,(3,2))\n",
    "print(b)"
   ]
  },
  {
   "cell_type": "markdown",
   "id": "40534728",
   "metadata": {},
   "source": [
    "### np.random.normal(mean, standard_deviation, size=shape)"
   ]
  },
  {
   "cell_type": "code",
   "execution_count": 28,
   "id": "d724d162",
   "metadata": {},
   "outputs": [
    {
     "name": "stdout",
     "output_type": "stream",
     "text": [
      "[[ 1.41888014e-01 -5.73665309e-02 -2.04995230e-01 ...  1.37061799e-01\n",
      "   1.21913332e-03  1.08939031e-01]\n",
      " [ 7.03686727e-02 -1.32622444e-01  7.54241315e-02 ... -5.61293222e-02\n",
      "  -1.97975585e-02  9.65430825e-03]\n",
      " [ 1.06397154e-01  9.66226131e-02  2.41373271e-02 ... -6.91079018e-02\n",
      "  -1.16105152e-01  1.99913749e-04]\n",
      " ...\n",
      " [-6.91132714e-02 -1.58454730e-01  1.36591648e-01 ... -3.93138678e-02\n",
      "  -2.11255354e-01 -1.20530599e-01]\n",
      " [-6.15473325e-02  7.38026627e-02 -1.59185167e-01 ...  2.99634563e-02\n",
      "  -1.34705186e-01 -3.94685762e-02]\n",
      " [ 4.95269349e-02  2.52311362e-02 -5.76303540e-02 ... -1.17832416e-01\n",
      "  -6.24912986e-03 -2.82341326e-02]]\n"
     ]
    }
   ],
   "source": [
    "# We create a 1000 x 1000 ndarray of random floats drawn from normal (Gaussian) distribution\n",
    "# with a mean of zero and a standard deviation of 0.1.\n",
    "c = np.random.normal(0,0.1,size=(1000,1000)) \n",
    "print(c)"
   ]
  },
  {
   "cell_type": "code",
   "execution_count": 29,
   "id": "139b8f13",
   "metadata": {},
   "outputs": [
    {
     "name": "stdout",
     "output_type": "stream",
     "text": [
      "mean: 3.6883987780027504e-05\n",
      "stander deviation: 0.09992291012822828\n",
      "max: 0.493733460949969\n",
      "min: -0.4795617075502011\n",
      "%positive: 500001\n",
      "negative: 499999\n"
     ]
    }
   ],
   "source": [
    "print(\"mean:\",c.mean())\n",
    "print(\"stander deviation:\",c.std())\n",
    "print(\"max:\",c.max())\n",
    "print(\"min:\",c.min())\n",
    "print(\"%positive:\",(c>0).sum())\n",
    "print(\"negative:\",(c<0).sum())"
   ]
  },
  {
   "cell_type": "markdown",
   "id": "d187aba7",
   "metadata": {},
   "source": [
    "### np.random.permutation(N)\n",
    "function creates a random permutation of integers from 0 to N-1"
   ]
  },
  {
   "cell_type": "code",
   "execution_count": 30,
   "id": "70e6b7c2",
   "metadata": {},
   "outputs": [
    {
     "data": {
      "text/plain": [
       "array([4, 3, 1, 0, 2])"
      ]
     },
     "execution_count": 30,
     "metadata": {},
     "output_type": "execute_result"
    }
   ],
   "source": [
    "# We create a random permutation of integers 0 to 4\n",
    "np.random.permutation(5)"
   ]
  },
  {
   "cell_type": "markdown",
   "id": "db9e483a",
   "metadata": {},
   "source": [
    "### np.delete(ndarray, elements, axis)"
   ]
  },
  {
   "cell_type": "code",
   "execution_count": 31,
   "id": "0bd479f2",
   "metadata": {},
   "outputs": [
    {
     "name": "stdout",
     "output_type": "stream",
     "text": [
      "[[1 2 3]\n",
      " [4 5 6]\n",
      " [7 8 9]]\n"
     ]
    }
   ],
   "source": [
    "Y = np.array([[1,2,3],[4,5,6],[7,8,9]])\n",
    "print(Y)"
   ]
  },
  {
   "cell_type": "code",
   "execution_count": 32,
   "id": "85ed5567",
   "metadata": {},
   "outputs": [
    {
     "name": "stdout",
     "output_type": "stream",
     "text": [
      "[[4 5 6]\n",
      " [7 8 9]]\n"
     ]
    }
   ],
   "source": [
    "# We delete the first row of y\n",
    "w = np.delete(Y, 0, axis=0)\n",
    "print(w)"
   ]
  },
  {
   "cell_type": "code",
   "execution_count": 33,
   "id": "b5274268",
   "metadata": {},
   "outputs": [
    {
     "name": "stdout",
     "output_type": "stream",
     "text": [
      "[[2]\n",
      " [5]\n",
      " [8]]\n"
     ]
    }
   ],
   "source": [
    "# We delete the first and last column of y\n",
    "v = np.delete(Y, [0,2], axis=1)\n",
    "print(v)"
   ]
  },
  {
   "cell_type": "markdown",
   "id": "5c056e5c",
   "metadata": {},
   "source": [
    "### np.append(ndarray, elements, axis)"
   ]
  },
  {
   "cell_type": "code",
   "execution_count": 34,
   "id": "a12b0771",
   "metadata": {},
   "outputs": [
    {
     "name": "stdout",
     "output_type": "stream",
     "text": [
      "[[1 2 3]\n",
      " [4 5 6]\n",
      " [7 8 9]\n",
      " [7 8 9]]\n"
     ]
    }
   ],
   "source": [
    "# We append a new row containing 7,8,9 to y\n",
    "v = np.append(Y, [[7,8,9]], axis=0)\n",
    "print(v)"
   ]
  },
  {
   "cell_type": "code",
   "execution_count": 35,
   "id": "fc64f9da",
   "metadata": {},
   "outputs": [
    {
     "name": "stdout",
     "output_type": "stream",
     "text": [
      "[[ 1  2  3  9]\n",
      " [ 4  5  6 10]\n",
      " [ 7  8  9 11]]\n"
     ]
    }
   ],
   "source": [
    "# We append a new column containing 9 and 10 to y\n",
    "q = np.append(Y,[[9],[10],[11]], axis=1)\n",
    "print(q)"
   ]
  },
  {
   "cell_type": "markdown",
   "id": "62c6edf5",
   "metadata": {},
   "source": [
    "### np.insert(ndarray, index, elements, axis)"
   ]
  },
  {
   "cell_type": "code",
   "execution_count": 36,
   "id": "db719bf1",
   "metadata": {},
   "outputs": [
    {
     "name": "stdout",
     "output_type": "stream",
     "text": [
      "[1 2 5 6 7]\n"
     ]
    }
   ],
   "source": [
    "x = np.array([1, 2, 5, 6, 7])\n",
    "print(x)"
   ]
  },
  {
   "cell_type": "code",
   "execution_count": 37,
   "id": "583faa68",
   "metadata": {},
   "outputs": [
    {
     "name": "stdout",
     "output_type": "stream",
     "text": [
      "[1 2 3 4 5 6 7]\n"
     ]
    }
   ],
   "source": [
    "# We insert the integer 3 and 4 between 2 and 5 in x. \n",
    "x = np.insert(x,2,[3,4])\n",
    "print(x)"
   ]
  },
  {
   "cell_type": "code",
   "execution_count": 38,
   "id": "b3673af1",
   "metadata": {},
   "outputs": [
    {
     "name": "stdout",
     "output_type": "stream",
     "text": [
      "[[1 2 3]\n",
      " [7 8 9]]\n"
     ]
    }
   ],
   "source": [
    "Y = np.array([[1,2,3],[7,8,9]])\n",
    "print(Y)"
   ]
  },
  {
   "cell_type": "code",
   "execution_count": 39,
   "id": "cab726a1",
   "metadata": {},
   "outputs": [
    {
     "name": "stdout",
     "output_type": "stream",
     "text": [
      "[[1 2 3]\n",
      " [4 5 6]\n",
      " [7 8 9]]\n"
     ]
    }
   ],
   "source": [
    "# We insert a row between the first and last row of y\n",
    "w = np.insert(Y,1,[4,5,6],axis=0)\n",
    "print(w)"
   ]
  },
  {
   "cell_type": "code",
   "execution_count": 40,
   "id": "b29a7835",
   "metadata": {},
   "outputs": [
    {
     "name": "stdout",
     "output_type": "stream",
     "text": [
      "[[1 5 2 3]\n",
      " [7 5 8 9]]\n"
     ]
    }
   ],
   "source": [
    "# We insert a column full of 5s between the first and second column of y\n",
    "v = np.insert(Y,1,5, axis=1)\n",
    "print(v)"
   ]
  },
  {
   "cell_type": "markdown",
   "id": "2370b12e",
   "metadata": {},
   "source": [
    "### numpy.hstack(sequence_of_ndarray)"
   ]
  },
  {
   "cell_type": "code",
   "execution_count": 41,
   "id": "20735ce6",
   "metadata": {},
   "outputs": [
    {
     "name": "stdout",
     "output_type": "stream",
     "text": [
      "x: [1 2]\n",
      "Y: [[3 4]\n",
      " [5 6]]\n"
     ]
    }
   ],
   "source": [
    "# We create a rank 1 ndarray \n",
    "x = np.array([1,2])\n",
    "print(\"x:\",x)\n",
    "# We create a rank 2 ndarray \n",
    "Y = np.array([[3,4],[5,6]])\n",
    "print(\"Y:\",Y)"
   ]
  },
  {
   "cell_type": "code",
   "execution_count": 42,
   "id": "de09ad44",
   "metadata": {},
   "outputs": [
    {
     "name": "stdout",
     "output_type": "stream",
     "text": [
      "[[3 4 1]\n",
      " [5 6 2]]\n"
     ]
    }
   ],
   "source": [
    "# We stack x on the right of Y. \n",
    "# We need to reshape x in order to stack it on the right of Y. \n",
    "w = np.hstack((Y,x.reshape(2,1)))\n",
    "print(w)"
   ]
  },
  {
   "cell_type": "markdown",
   "id": "4dd028b3",
   "metadata": {},
   "source": [
    "### numpy.vstack(sequence_of_ndarray)"
   ]
  },
  {
   "cell_type": "code",
   "execution_count": 43,
   "id": "9b4f3f32",
   "metadata": {},
   "outputs": [
    {
     "name": "stdout",
     "output_type": "stream",
     "text": [
      "[[1 2]\n",
      " [3 4]\n",
      " [5 6]]\n"
     ]
    }
   ],
   "source": [
    "# We stack x on top of Y\n",
    "z = np.vstack((x,Y))\n",
    "print(z)"
   ]
  },
  {
   "cell_type": "markdown",
   "id": "4111ca5e",
   "metadata": {},
   "source": [
    "### Slicing\n",
    "1. ndarray[start:end]\n",
    "2. ndarray[start:]\n",
    "3. ndarray[:end]"
   ]
  },
  {
   "cell_type": "code",
   "execution_count": 44,
   "id": "2e23deed",
   "metadata": {},
   "outputs": [
    {
     "name": "stdout",
     "output_type": "stream",
     "text": [
      "[[ 0  1  2  3  4]\n",
      " [ 5  6  7  8  9]\n",
      " [10 11 12 13 14]\n",
      " [15 16 17 18 19]]\n"
     ]
    }
   ],
   "source": [
    "# We create a 4 x 5 ndarray that contains integers from 0 to 19\n",
    "X = np.arange(20).reshape(4, 5)\n",
    "print(X)"
   ]
  },
  {
   "cell_type": "code",
   "execution_count": 45,
   "id": "12ab0adb",
   "metadata": {},
   "outputs": [
    {
     "name": "stdout",
     "output_type": "stream",
     "text": [
      "[[ 7  8  9]\n",
      " [12 13 14]\n",
      " [17 18 19]]\n"
     ]
    }
   ],
   "source": [
    "# Method 1\n",
    "# We select all the elements that are in the 2nd through 4th rows \n",
    "# and in the 3rd to 5th columns\n",
    "Z = X[1:4,2:5]\n",
    "print(Z)"
   ]
  },
  {
   "cell_type": "code",
   "execution_count": 46,
   "id": "a584f869",
   "metadata": {},
   "outputs": [
    {
     "name": "stdout",
     "output_type": "stream",
     "text": [
      "[[13 14]\n",
      " [18 19]]\n"
     ]
    }
   ],
   "source": [
    "# Method 2\n",
    "# We select all the elements that are in the 2nd through 3rd rows\n",
    "# and in the 3rd through 4rd columns\n",
    "v = X[2:,3:]\n",
    "print(v)"
   ]
  },
  {
   "cell_type": "code",
   "execution_count": 47,
   "id": "13abf817",
   "metadata": {},
   "outputs": [
    {
     "name": "stdout",
     "output_type": "stream",
     "text": [
      "[[ 0  1  2  3]\n",
      " [ 5  6  7  8]\n",
      " [10 11 12 13]]\n"
     ]
    }
   ],
   "source": [
    "# Method 3\n",
    "# We select all the elements that are in the 1st through 3rd rows\n",
    "# and in the 1st through 4rd columns\n",
    "q = X[:3,:4]\n",
    "print(q)"
   ]
  },
  {
   "cell_type": "markdown",
   "id": "eb082c8b",
   "metadata": {},
   "source": [
    "### ndarray.copy(order='C')\n",
    "!!!!!!!! X, Z, v and q are now just different names for the same ndarray. This means that if you make changes in Z or v or q you will be in effect changing the elements in X as well !!!!!!!!"
   ]
  },
  {
   "cell_type": "code",
   "execution_count": 48,
   "id": "1ce16d37",
   "metadata": {},
   "outputs": [
    {
     "name": "stdout",
     "output_type": "stream",
     "text": [
      "[[  0   1   2   3]\n",
      " [  5   6   7   8]\n",
      " [ 10  11  12 555]]\n",
      "[[  0   1   2   3   4]\n",
      " [  5   6   7   8   9]\n",
      " [ 10  11  12 555  14]\n",
      " [ 15  16  17  18  19]]\n"
     ]
    }
   ],
   "source": [
    "# We change the last element in q to 555\n",
    "q[2,3] = 555\n",
    "print(q)\n",
    "print(X)"
   ]
  },
  {
   "cell_type": "markdown",
   "id": "eea60aa9",
   "metadata": {},
   "source": [
    "=> use : ndarray.copy(order='C')"
   ]
  },
  {
   "cell_type": "code",
   "execution_count": 49,
   "id": "bc40c572",
   "metadata": {},
   "outputs": [
    {
     "name": "stdout",
     "output_type": "stream",
     "text": [
      "[[ 0  1  2  3  4]\n",
      " [ 5  6  7  8  9]\n",
      " [10 11 12 13 14]\n",
      " [15 16 17 18 19]]\n"
     ]
    }
   ],
   "source": [
    "# We create a 4 x 5 ndarray that contains integers from 0 to 19\n",
    "X = np.arange(20).reshape(4, 5)\n",
    "print(X)"
   ]
  },
  {
   "cell_type": "code",
   "execution_count": 50,
   "id": "1301788f",
   "metadata": {},
   "outputs": [
    {
     "name": "stdout",
     "output_type": "stream",
     "text": [
      "[[ 7  8  9]\n",
      " [12 13 14]\n",
      " [17 18 19]]\n"
     ]
    }
   ],
   "source": [
    "# create a copy of the slice using the np.copy() function\n",
    "Z = np.copy(X[1:4,2:5])\n",
    "print(Z)"
   ]
  },
  {
   "cell_type": "code",
   "execution_count": 51,
   "id": "8f1ac0dc",
   "metadata": {},
   "outputs": [
    {
     "name": "stdout",
     "output_type": "stream",
     "text": [
      "[[ 7  8  9]\n",
      " [12 13 14]\n",
      " [17 18 19]]\n"
     ]
    }
   ],
   "source": [
    "#  create a copy of the slice using the copy as a method\n",
    "W = X[1:4,2:5].copy()\n",
    "print(W)"
   ]
  },
  {
   "cell_type": "code",
   "execution_count": 52,
   "id": "09936531",
   "metadata": {},
   "outputs": [
    {
     "name": "stdout",
     "output_type": "stream",
     "text": [
      "[[  7   8   9]\n",
      " [ 12  13  14]\n",
      " [ 17  18 444]]\n",
      "[[ 0  1  2  3  4]\n",
      " [ 5  6  7  8  9]\n",
      " [10 11 12 13 14]\n",
      " [15 16 17 18 19]]\n"
     ]
    }
   ],
   "source": [
    "# We change the last element in W to 444\n",
    "W[2,2] = 444\n",
    "print(W)\n",
    "print(X)"
   ]
  },
  {
   "cell_type": "markdown",
   "id": "d4b255b7",
   "metadata": {},
   "source": [
    "### Boolean indexing"
   ]
  },
  {
   "cell_type": "code",
   "execution_count": 53,
   "id": "e1d8f86e",
   "metadata": {},
   "outputs": [
    {
     "name": "stdout",
     "output_type": "stream",
     "text": [
      "[[ 0  1  2  3  4]\n",
      " [ 5  6  7  8  9]\n",
      " [10 11 12 13 14]\n",
      " [15 16 17 18 19]\n",
      " [20 21 22 23 24]]\n"
     ]
    }
   ],
   "source": [
    "# We create a 5 x 5 ndarray that contains integers from 0 to 24\n",
    "X = np.arange(25).reshape(5, 5)\n",
    "print(X)"
   ]
  },
  {
   "cell_type": "code",
   "execution_count": 54,
   "id": "28fd0622",
   "metadata": {},
   "outputs": [
    {
     "name": "stdout",
     "output_type": "stream",
     "text": [
      "The elements in X that are greater than 10: [11 12 13 14 15 16 17 18 19 20 21 22 23 24]\n",
      "The elements in X that less than or equal to 7: [0 1 2 3 4 5 6 7]\n",
      "The elements in X that are between 10 and 17: [11 12 13 14 15 16]\n"
     ]
    }
   ],
   "source": [
    "# We use Boolean indexing to select elements in X:\n",
    "print('The elements in X that are greater than 10:', X[X > 10])\n",
    "print('The elements in X that less than or equal to 7:', X[X <= 7])\n",
    "print('The elements in X that are between 10 and 17:', X[(X > 10) & (X < 17)])"
   ]
  },
  {
   "cell_type": "markdown",
   "id": "8991aef6",
   "metadata": {},
   "source": [
    "### Set operations :\n",
    "1. np.intersect1d(ndarry1,ndarry2)\n",
    "2. np.setdiff1d(ndarry1,ndarry2)\n",
    "3. np.union1d(ndarry1,ndarry2)"
   ]
  },
  {
   "cell_type": "code",
   "execution_count": 55,
   "id": "af994c7a",
   "metadata": {},
   "outputs": [
    {
     "name": "stdout",
     "output_type": "stream",
     "text": [
      "[1 2 3 4 5]\n",
      "[6 7 2 8 4]\n"
     ]
    }
   ],
   "source": [
    "# We create a rank 1 ndarray\n",
    "x = np.array([1,2,3,4,5])\n",
    "print(x)\n",
    "# We create a rank 1 ndarray\n",
    "y = np.array([6,7,2,8,4])\n",
    "print(y)"
   ]
  },
  {
   "cell_type": "code",
   "execution_count": 56,
   "id": "203ad91d",
   "metadata": {},
   "outputs": [
    {
     "name": "stdout",
     "output_type": "stream",
     "text": [
      "The elements that are both in x and y: [2 4]\n",
      "The elements that are in x that are not in y: [1 3 5]\n",
      "All the elements of x and y: [1 2 3 4 5 6 7 8]\n"
     ]
    }
   ],
   "source": [
    "# We use set operations to compare x and y:\n",
    "print('The elements that are both in x and y:', np.intersect1d(x,y))\n",
    "print('The elements that are in x that are not in y:', np.setdiff1d(x,y))\n",
    "print('All the elements of x and y:',np.union1d(x,y))\n"
   ]
  },
  {
   "cell_type": "markdown",
   "id": "4a344423",
   "metadata": {},
   "source": [
    "### ndarray.sort(axis=-1, kind=None, order=None)"
   ]
  },
  {
   "cell_type": "code",
   "execution_count": 57,
   "id": "2e898be8",
   "metadata": {},
   "outputs": [
    {
     "name": "stdout",
     "output_type": "stream",
     "text": [
      "[3 9 4 7 7 2 2 1 5 5]\n"
     ]
    }
   ],
   "source": [
    "# We create an unsorted rank 1 ndarray\n",
    "x = np.random.randint(1,11,size=(10,))\n",
    "print(x)"
   ]
  },
  {
   "cell_type": "code",
   "execution_count": 58,
   "id": "308af9fc",
   "metadata": {},
   "outputs": [
    {
     "name": "stdout",
     "output_type": "stream",
     "text": [
      "Sorted x (out of place): None\n",
      "[1 2 2 3 4 5 5 7 7 9]\n"
     ]
    }
   ],
   "source": [
    "# We sort x and print the sorted array using sort as a method.\n",
    "# the original array will be changed to the sorted one\n",
    "print('Sorted x (out of place):', x.sort())\n",
    "print(x)"
   ]
  },
  {
   "cell_type": "markdown",
   "id": "adc7b279",
   "metadata": {},
   "source": [
    "### np.sort(array, axis=-1, kind=None, order=None)"
   ]
  },
  {
   "cell_type": "code",
   "execution_count": 59,
   "id": "165176ff",
   "metadata": {},
   "outputs": [
    {
     "name": "stdout",
     "output_type": "stream",
     "text": [
      "[8 3 6 5 7 9 4 8 9 2]\n"
     ]
    }
   ],
   "source": [
    "# We create an unsorted rank 1 ndarray\n",
    "x = np.random.randint(1,11,size=(10,))\n",
    "print(x)"
   ]
  },
  {
   "cell_type": "code",
   "execution_count": 60,
   "id": "40a1872f",
   "metadata": {},
   "outputs": [
    {
     "name": "stdout",
     "output_type": "stream",
     "text": [
      "Sorted x (out of place): [2 3 4 5 6 7 8 8 9 9]\n",
      "[8 3 6 5 7 9 4 8 9 2]\n"
     ]
    }
   ],
   "source": [
    "# We sort x and print the sorted array using sort as a function.\n",
    "# It doesn't change the original ndarray being sorted.\n",
    "print('Sorted x (out of place):', np.sort(x))\n",
    "print(x)"
   ]
  },
  {
   "cell_type": "markdown",
   "id": "b3f1a5e8",
   "metadata": {},
   "source": [
    "The axis denotes the axis along which to sort. It can take values in the range -1 to (ndim-1). Axis can take the following possible values for a given 2-D ndarray:\n",
    "\n",
    "- If nothing is specified, the default value is axis = -1, which sorts along the last axis. In the case of a given 2-D ndarray, the last axis value is 1.\n",
    "- If explicitly axis = None is specified, the array is flattened before sorting. It will return a 1-D array.\n",
    "- If axis = 0 is specified for a given 2-D array - For one column at a time, the function will sort all rows, without disturbing other elements. In the final output, you will see that each column has been sorted individually.\n",
    "- The output of axis = 1 for a given 2-D array is vice-versa for axis = 0. In the final output, you will see that each row has been sorted individually.\n"
   ]
  },
  {
   "cell_type": "code",
   "execution_count": 61,
   "id": "7b8b685a",
   "metadata": {},
   "outputs": [
    {
     "name": "stdout",
     "output_type": "stream",
     "text": [
      "[[6 5 3 9 9]\n",
      " [7 6 8 2 5]\n",
      " [1 8 7 1 3]\n",
      " [8 4 1 7 3]\n",
      " [8 1 9 9 6]]\n"
     ]
    }
   ],
   "source": [
    "# We create an unsorted rank 2 ndarray\n",
    "X = np.random.randint(1,11,size=(5,5))\n",
    "print(X)"
   ]
  },
  {
   "cell_type": "code",
   "execution_count": 62,
   "id": "ab1d85c4",
   "metadata": {},
   "outputs": [
    {
     "name": "stdout",
     "output_type": "stream",
     "text": [
      "X with sorted columns :\n",
      " [[1 1 1 1 3]\n",
      " [6 4 3 2 3]\n",
      " [7 5 7 7 5]\n",
      " [8 6 8 9 6]\n",
      " [8 8 9 9 9]]\n"
     ]
    }
   ],
   "source": [
    "# We sort the columns of X and print the sorted array\n",
    "print('X with sorted columns :\\n', np.sort(X, axis = 0))"
   ]
  },
  {
   "cell_type": "code",
   "execution_count": 63,
   "id": "23749f0e",
   "metadata": {},
   "outputs": [
    {
     "name": "stdout",
     "output_type": "stream",
     "text": [
      "X with sorted rows :\n",
      " [[3 5 6 9 9]\n",
      " [2 5 6 7 8]\n",
      " [1 1 3 7 8]\n",
      " [1 3 4 7 8]\n",
      " [1 6 8 9 9]]\n"
     ]
    }
   ],
   "source": [
    "# We sort the rows of X and print the sorted array\n",
    "print('X with sorted rows :\\n', np.sort(X, axis = 1))"
   ]
  },
  {
   "cell_type": "markdown",
   "id": "595ca66d",
   "metadata": {},
   "source": [
    "## Mathematical functions"
   ]
  },
  {
   "cell_type": "code",
   "execution_count": 64,
   "id": "4e514022",
   "metadata": {},
   "outputs": [
    {
     "name": "stdout",
     "output_type": "stream",
     "text": [
      "[1 2 3 4]\n",
      "[5.5 6.5 7.5 8.5]\n"
     ]
    }
   ],
   "source": [
    "# We create two rank 1 ndarrays\n",
    "x = np.array([1,2,3,4])\n",
    "y = np.array([5.5,6.5,7.5,8.5])\n",
    "print(x)\n",
    "print(y)"
   ]
  },
  {
   "cell_type": "code",
   "execution_count": 65,
   "id": "7efc518a",
   "metadata": {},
   "outputs": [
    {
     "name": "stdout",
     "output_type": "stream",
     "text": [
      "[[1 2]\n",
      " [3 4]]\n",
      "[[5.5 6.5]\n",
      " [7.5 8.5]]\n"
     ]
    }
   ],
   "source": [
    "# We create two rank 2 ndarrays\n",
    "X = np.array([1,2,3,4]).reshape(2,2)\n",
    "Y = np.array([5.5,6.5,7.5,8.5]).reshape(2,2)\n",
    "print(X)\n",
    "print(Y)"
   ]
  },
  {
   "cell_type": "markdown",
   "id": "cca435f7",
   "metadata": {},
   "source": [
    "### Addition"
   ]
  },
  {
   "cell_type": "code",
   "execution_count": 66,
   "id": "7af6f17e",
   "metadata": {},
   "outputs": [
    {
     "name": "stdout",
     "output_type": "stream",
     "text": [
      "x + y =  [ 6.5  8.5 10.5 12.5]\n",
      "add(x,y) =  [ 6.5  8.5 10.5 12.5]\n"
     ]
    }
   ],
   "source": [
    "print('x + y = ', x + y)\n",
    "print('add(x,y) = ', np.add(x,y))"
   ]
  },
  {
   "cell_type": "code",
   "execution_count": 67,
   "id": "9482d736",
   "metadata": {},
   "outputs": [
    {
     "name": "stdout",
     "output_type": "stream",
     "text": [
      "X + Y = \n",
      " [[ 6.5  8.5]\n",
      " [10.5 12.5]]\n",
      "add(X,Y) = \n",
      " [[ 6.5  8.5]\n",
      " [10.5 12.5]]\n"
     ]
    }
   ],
   "source": [
    "print('X + Y = \\n', X + Y)\n",
    "print('add(X,Y) = \\n', np.add(X,Y))"
   ]
  },
  {
   "cell_type": "markdown",
   "id": "d44dcf56",
   "metadata": {},
   "source": [
    "### Subtraction"
   ]
  },
  {
   "cell_type": "code",
   "execution_count": 68,
   "id": "3db39ea4",
   "metadata": {},
   "outputs": [
    {
     "name": "stdout",
     "output_type": "stream",
     "text": [
      "x - y =  [-4.5 -4.5 -4.5 -4.5]\n",
      "subtract(x,y) =  [-4.5 -4.5 -4.5 -4.5]\n"
     ]
    }
   ],
   "source": [
    "print('x - y = ', x - y)\n",
    "print('subtract(x,y) = ', np.subtract(x,y))"
   ]
  },
  {
   "cell_type": "code",
   "execution_count": 69,
   "id": "74d1cddc",
   "metadata": {},
   "outputs": [
    {
     "name": "stdout",
     "output_type": "stream",
     "text": [
      "X - Y = \n",
      " [[-4.5 -4.5]\n",
      " [-4.5 -4.5]]\n",
      "subtract(X,Y) = \n",
      " [[-4.5 -4.5]\n",
      " [-4.5 -4.5]]\n"
     ]
    }
   ],
   "source": [
    "print('X - Y = \\n', X - Y)\n",
    "print('subtract(X,Y) = \\n', np.subtract(X,Y))"
   ]
  },
  {
   "cell_type": "markdown",
   "id": "55af9d24",
   "metadata": {},
   "source": [
    "### Multiplication"
   ]
  },
  {
   "cell_type": "code",
   "execution_count": 70,
   "id": "2f1eaba1",
   "metadata": {},
   "outputs": [
    {
     "name": "stdout",
     "output_type": "stream",
     "text": [
      "x * y =  [ 5.5 13.  22.5 34. ]\n",
      "multiply(x,y) =  [ 5.5 13.  22.5 34. ]\n"
     ]
    }
   ],
   "source": [
    "print('x * y = ', x * y)\n",
    "print('multiply(x,y) = ', np.multiply(x,y))"
   ]
  },
  {
   "cell_type": "code",
   "execution_count": 71,
   "id": "cbc82d8b",
   "metadata": {},
   "outputs": [
    {
     "name": "stdout",
     "output_type": "stream",
     "text": [
      "X * Y = \n",
      " [[ 5.5 13. ]\n",
      " [22.5 34. ]]\n",
      "multiply(X,Y) = \n",
      " [[ 5.5 13. ]\n",
      " [22.5 34. ]]\n"
     ]
    }
   ],
   "source": [
    "print('X * Y = \\n', X * Y)\n",
    "print('multiply(X,Y) = \\n', np.multiply(X,Y))"
   ]
  },
  {
   "cell_type": "markdown",
   "id": "7184c096",
   "metadata": {},
   "source": [
    "### Division"
   ]
  },
  {
   "cell_type": "code",
   "execution_count": 72,
   "id": "d491ab02",
   "metadata": {},
   "outputs": [
    {
     "name": "stdout",
     "output_type": "stream",
     "text": [
      "x / y =  [0.18181818 0.30769231 0.4        0.47058824]\n",
      "divide(x,y) =  [0.18181818 0.30769231 0.4        0.47058824]\n"
     ]
    }
   ],
   "source": [
    "print('x / y = ', x / y)\n",
    "print('divide(x,y) = ', np.divide(x,y))"
   ]
  },
  {
   "cell_type": "code",
   "execution_count": 73,
   "id": "263d08a5",
   "metadata": {},
   "outputs": [
    {
     "name": "stdout",
     "output_type": "stream",
     "text": [
      "X / Y = \n",
      " [[0.18181818 0.30769231]\n",
      " [0.4        0.47058824]]\n",
      "divide(X,Y) = \n",
      " [[0.18181818 0.30769231]\n",
      " [0.4        0.47058824]]\n"
     ]
    }
   ],
   "source": [
    "print('X / Y = \\n', X / Y)\n",
    "print('divide(X,Y) = \\n', np.divide(X,Y))"
   ]
  },
  {
   "cell_type": "markdown",
   "id": "0a96a58e",
   "metadata": {},
   "source": [
    "### Power"
   ]
  },
  {
   "cell_type": "code",
   "execution_count": 74,
   "id": "7658ed6c",
   "metadata": {},
   "outputs": [
    {
     "name": "stdout",
     "output_type": "stream",
     "text": [
      "[ 1  4  9 16]\n"
     ]
    }
   ],
   "source": [
    "print(np.power(x,2))"
   ]
  },
  {
   "cell_type": "code",
   "execution_count": 75,
   "id": "a3fd0e64",
   "metadata": {},
   "outputs": [
    {
     "name": "stdout",
     "output_type": "stream",
     "text": [
      "[[ 1  4]\n",
      " [ 9 16]]\n"
     ]
    }
   ],
   "source": [
    "print(np.power(X,2))"
   ]
  },
  {
   "cell_type": "markdown",
   "id": "87bdd57e",
   "metadata": {},
   "source": [
    "### Sqrt"
   ]
  },
  {
   "cell_type": "code",
   "execution_count": 76,
   "id": "e328eb85",
   "metadata": {},
   "outputs": [
    {
     "name": "stdout",
     "output_type": "stream",
     "text": [
      "[1.         1.41421356 1.73205081 2.        ]\n"
     ]
    }
   ],
   "source": [
    "print(np.sqrt(x))"
   ]
  },
  {
   "cell_type": "code",
   "execution_count": 77,
   "id": "2a4e6f4e",
   "metadata": {},
   "outputs": [
    {
     "name": "stdout",
     "output_type": "stream",
     "text": [
      "[[1.         1.41421356]\n",
      " [1.73205081 2.        ]]\n"
     ]
    }
   ],
   "source": [
    "print(np.sqrt(X))"
   ]
  },
  {
   "cell_type": "markdown",
   "id": "cff8ae9a",
   "metadata": {},
   "source": [
    "### Exponential"
   ]
  },
  {
   "cell_type": "code",
   "execution_count": 78,
   "id": "2cbd9fd8",
   "metadata": {},
   "outputs": [
    {
     "name": "stdout",
     "output_type": "stream",
     "text": [
      "[ 2.71828183  7.3890561  20.08553692 54.59815003]\n"
     ]
    }
   ],
   "source": [
    "print(np.exp(x))"
   ]
  },
  {
   "cell_type": "code",
   "execution_count": 79,
   "id": "d2af2173",
   "metadata": {},
   "outputs": [
    {
     "name": "stdout",
     "output_type": "stream",
     "text": [
      "[[ 2.71828183  7.3890561 ]\n",
      " [20.08553692 54.59815003]]\n"
     ]
    }
   ],
   "source": [
    "print(np.exp(X))"
   ]
  },
  {
   "cell_type": "markdown",
   "id": "eeb42861",
   "metadata": {},
   "source": [
    "## Statistical functions"
   ]
  },
  {
   "cell_type": "code",
   "execution_count": 80,
   "id": "7eb002cb",
   "metadata": {},
   "outputs": [
    {
     "name": "stdout",
     "output_type": "stream",
     "text": [
      "\n",
      "X = \n",
      " [[1 2]\n",
      " [3 4]]\n",
      "\n",
      "Average of all elements in X: 2.5\n",
      "Average of all elements in the columns of X: [2. 3.]\n",
      "Average of all elements in the rows of X: [1.5 3.5]\n",
      "\n",
      "Sum of all elements in X: 10\n",
      "Sum of all elements in the columns of X: [4 6]\n",
      "Sum of all elements in the rows of X: [3 7]\n",
      "\n",
      "Standard Deviation of all elements in X: 1.118033988749895\n",
      "Standard Deviation of all elements in the columns of X: [1. 1.]\n",
      "Standard Deviation of all elements in the rows of X: [0.5 0.5]\n",
      "\n",
      "Median of all elements in X: 2.5\n",
      "Median of all elements in the columns of X: [2. 3.]\n",
      "Median of all elements in the rows of X: [1.5 3.5]\n",
      "\n",
      "Maximum value of all elements in X: 4\n",
      "Maximum value of all elements in the columns of X: [3 4]\n",
      "Maximum value of all elements in the rows of X: [2 4]\n",
      "\n",
      "Minimum value of all elements in X: 1\n",
      "Minimum value of all elements in the columns of X: [1 2]\n",
      "Minimum value of all elements in the rows of X: [1 3]\n"
     ]
    }
   ],
   "source": [
    "# We create a 2 x 2 ndarray\n",
    "X = np.array([[1,2], [3,4]])\n",
    "\n",
    "# We print x\n",
    "print()\n",
    "print('X = \\n', X)\n",
    "print()\n",
    "\n",
    "print('Average of all elements in X:', X.mean())\n",
    "print('Average of all elements in the columns of X:', X.mean(axis=0))\n",
    "print('Average of all elements in the rows of X:', X.mean(axis=1))\n",
    "print()\n",
    "print('Sum of all elements in X:', X.sum())\n",
    "print('Sum of all elements in the columns of X:', X.sum(axis=0))\n",
    "print('Sum of all elements in the rows of X:', X.sum(axis=1))\n",
    "print()\n",
    "print('Standard Deviation of all elements in X:', X.std())\n",
    "print('Standard Deviation of all elements in the columns of X:', X.std(axis=0))\n",
    "print('Standard Deviation of all elements in the rows of X:', X.std(axis=1))\n",
    "print()\n",
    "print('Median of all elements in X:', np.median(X))\n",
    "print('Median of all elements in the columns of X:', np.median(X,axis=0))\n",
    "print('Median of all elements in the rows of X:', np.median(X,axis=1))\n",
    "print()\n",
    "print('Maximum value of all elements in X:', X.max())\n",
    "print('Maximum value of all elements in the columns of X:', X.max(axis=0))\n",
    "print('Maximum value of all elements in the rows of X:', X.max(axis=1))\n",
    "print()\n",
    "print('Minimum value of all elements in X:', X.min())\n",
    "print('Minimum value of all elements in the columns of X:', X.min(axis=0))\n",
    "print('Minimum value of all elements in the rows of X:', X.min(axis=1))"
   ]
  },
  {
   "cell_type": "code",
   "execution_count": null,
   "id": "d6588b06",
   "metadata": {},
   "outputs": [],
   "source": []
  }
 ],
 "metadata": {
  "kernelspec": {
   "display_name": "Python 3",
   "language": "python",
   "name": "python3"
  },
  "language_info": {
   "codemirror_mode": {
    "name": "ipython",
    "version": 3
   },
   "file_extension": ".py",
   "mimetype": "text/x-python",
   "name": "python",
   "nbconvert_exporter": "python",
   "pygments_lexer": "ipython3",
   "version": "3.7.13"
  }
 },
 "nbformat": 4,
 "nbformat_minor": 5
}
